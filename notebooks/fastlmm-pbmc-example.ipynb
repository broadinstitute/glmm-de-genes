{
 "cells": [
  {
   "cell_type": "code",
   "execution_count": 73,
   "metadata": {},
   "outputs": [],
   "source": [
    "#Import these for Python2 & Python 3 support\n",
    "from __future__ import absolute_import\n",
    "from __future__ import print_function\n",
    "\n",
    "# set some ipython notebook properties\n",
    "%matplotlib inline\n",
    "\n",
    "# set degree of verbosity (adapt to INFO for more verbose output)\n",
    "import logging\n",
    "logging.basicConfig(level=logging.WARNING)\n",
    "\n",
    "# set figure sizes\n",
    "import pylab\n",
    "pylab.rcParams['figure.figsize'] = (10.0, 8.0)\n",
    "#pylab.plot([1,2,3],[4,5,6])\n",
    "\n",
    "# set display width for pandas data frames\n",
    "from scipy.io import mmread\n",
    "import numpy as np\n",
    "import pandas as pd\n",
    "\n",
    "pd.set_option('display.width', 1000)\n",
    "\n",
    "from pyannotables import tables\n",
    "import pegasus as pg\n",
    "\n",
    "from pysnptools.snpreader import Dat, Bed, Pheno, SnpData\n",
    "import pysnptools.util as pstutil\n",
    "\n",
    "# import the algorithm\n",
    "from fastlmm.association import single_snp"
   ]
  },
  {
   "cell_type": "markdown",
   "metadata": {},
   "source": [
    "## PySNPTools Toy Data"
   ]
  },
  {
   "cell_type": "code",
   "execution_count": 2,
   "metadata": {},
   "outputs": [],
   "source": [
    "pysnp_path = 'software/PySnpTools/pysnptools/examples/'"
   ]
  },
  {
   "cell_type": "code",
   "execution_count": null,
   "metadata": {},
   "outputs": [],
   "source": [
    "snpdata = Bed(pysnp_path + 'toydata.bed',count_A1=False)[:,:10].read()  # Read first 10 snps from Bed format\n",
    "pstutil.create_directory_if_necessary(\"temp/toydata10.dat\")\n",
    "Dat.write(\"temp/toydata10.dat\", snpdata) "
   ]
  },
  {
   "cell_type": "code",
   "execution_count": null,
   "metadata": {},
   "outputs": [],
   "source": [
    "# define file names\n",
    "snp_reader_bed = Bed(pysnp_path + 'toydata.bed',count_A1=False)"
   ]
  },
  {
   "cell_type": "code",
   "execution_count": null,
   "metadata": {},
   "outputs": [],
   "source": [
    "# define file names\n",
    "snp_reader_dat = Dat(\"temp/toydata10\")"
   ]
  },
  {
   "cell_type": "code",
   "execution_count": null,
   "metadata": {},
   "outputs": [],
   "source": [
    "snp_reader_bed.shape, snp_reader_dat.shape"
   ]
  },
  {
   "cell_type": "markdown",
   "metadata": {},
   "source": [
    "## 10X PBMC Data "
   ]
  },
  {
   "cell_type": "markdown",
   "metadata": {},
   "source": [
    "http://zzz.bwh.harvard.edu/plink/data.shtml\n",
    "  - .dat: genes by cells (first 3 columns are id and meta data) sid, paternal, maternal?\n",
    "  - .fam: cell data and metadata    fid, iid, paternal, maternal, sex, phenotype?\n",
    "  - .map: gene/genomic map of genes    chr, geneid, cM(leave as 0), bp (bp start of gene) "
   ]
  },
  {
   "cell_type": "code",
   "execution_count": 3,
   "metadata": {},
   "outputs": [],
   "source": [
    "pbmc_path = 'data/pbmc3k/filtered_gene_bc_matrices/hg19/'"
   ]
  },
  {
   "cell_type": "code",
   "execution_count": 4,
   "metadata": {},
   "outputs": [
    {
     "name": "stdout",
     "output_type": "stream",
     "text": [
      "2020-04-15 16:09:57,292 - pegasus - INFO - Detected mtx file in 10x v2 format.\n"
     ]
    },
    {
     "name": "stderr",
     "output_type": "stream",
     "text": [
      "INFO:pegasus:Detected mtx file in 10x v2 format.\n"
     ]
    },
    {
     "name": "stdout",
     "output_type": "stream",
     "text": [
      "2020-04-15 16:09:57,453 - pegasus - INFO - Time spent on 'read_input' = 4.80s.\n"
     ]
    },
    {
     "name": "stderr",
     "output_type": "stream",
     "text": [
      "INFO:pegasus:Time spent on 'read_input' = 4.80s.\n"
     ]
    }
   ],
   "source": [
    "adata = pg.read_input(pbmc_path + 'matrix.mtx')"
   ]
  },
  {
   "cell_type": "code",
   "execution_count": 5,
   "metadata": {},
   "outputs": [
    {
     "name": "stdout",
     "output_type": "stream",
     "text": [
      "2020-04-15 16:24:22,450 - pegasus - INFO - After filtration, 2481/2700 cells and 16543/32738 genes are kept. Among 16543 genes, 14616 genes are robust.\n"
     ]
    },
    {
     "name": "stderr",
     "output_type": "stream",
     "text": [
      "INFO:pegasus:After filtration, 2481/2700 cells and 16543/32738 genes are kept. Among 16543 genes, 14616 genes are robust.\n"
     ]
    }
   ],
   "source": [
    "pg.qc_metrics(adata)\n",
    "pg.filter_data(adata)"
   ]
  },
  {
   "cell_type": "code",
   "execution_count": 6,
   "metadata": {},
   "outputs": [
    {
     "name": "stdout",
     "output_type": "stream",
     "text": [
      "2020-04-15 16:24:24,566 - pegasus - INFO - Time spent on 'log_norm' = 0.06s.\n"
     ]
    },
    {
     "name": "stderr",
     "output_type": "stream",
     "text": [
      "INFO:pegasus:Time spent on 'log_norm' = 0.06s.\n"
     ]
    },
    {
     "name": "stdout",
     "output_type": "stream",
     "text": [
      "2020-04-15 16:24:24,632 - pegasus - INFO - 2000 highly variable features have been selected.\n"
     ]
    },
    {
     "name": "stderr",
     "output_type": "stream",
     "text": [
      "INFO:pegasus:2000 highly variable features have been selected.\n"
     ]
    },
    {
     "name": "stdout",
     "output_type": "stream",
     "text": [
      "2020-04-15 16:24:24,634 - pegasus - INFO - Time spent on 'highly_variable_features' = 0.07s.\n"
     ]
    },
    {
     "name": "stderr",
     "output_type": "stream",
     "text": [
      "INFO:pegasus:Time spent on 'highly_variable_features' = 0.07s.\n"
     ]
    },
    {
     "name": "stdout",
     "output_type": "stream",
     "text": [
      "2020-04-15 16:24:24,938 - pegasus - INFO - PCA is done. Time spent = 0.29s.\n"
     ]
    },
    {
     "name": "stderr",
     "output_type": "stream",
     "text": [
      "INFO:pegasus:PCA is done. Time spent = 0.29s.\n"
     ]
    }
   ],
   "source": [
    "pg.log_norm(adata)\n",
    "pg.highly_variable_features(adata, consider_batch = False)\n",
    "pg.pca(adata)"
   ]
  },
  {
   "cell_type": "code",
   "execution_count": 18,
   "metadata": {},
   "outputs": [],
   "source": [
    "adata_filt = adata[:,adata.var.hvf_rank.between(0, 100)]"
   ]
  },
  {
   "cell_type": "code",
   "execution_count": 19,
   "metadata": {},
   "outputs": [
    {
     "data": {
      "text/plain": [
       "View of AnnData object with n_obs × n_vars = 2481 × 40 \n",
       "    obs: 'Channel', 'passed_qc', 'n_genes', 'n_counts', 'percent_mito'\n",
       "    var: 'gene_ids', 'n_cells', 'percent_cells', 'robust', 'highly_variable_features', 'mean', 'var', 'hvf_loess', 'hvf_rank'\n",
       "    uns: 'genome', 'Channels', 'fmat_highly_variable_features', 'PCs', 'pca'\n",
       "    obsm: 'X_pca'"
      ]
     },
     "execution_count": 19,
     "metadata": {},
     "output_type": "execute_result"
    }
   ],
   "source": [
    "adata_filt"
   ]
  },
  {
   "cell_type": "code",
   "execution_count": 20,
   "metadata": {},
   "outputs": [],
   "source": [
    "## genes = pd.read_csv(pbmc_path + 'genes.tsv', sep = '\\t', names = ['id', 'symbol'])\n",
    "genes = adata_filt.var"
   ]
  },
  {
   "cell_type": "code",
   "execution_count": 29,
   "metadata": {},
   "outputs": [],
   "source": [
    "## barcodes = pd.read_csv(pbmc_path + 'barcodes.tsv', sep = '\\t', names = ['barcode'])\n",
    "adata_filt_obs = adata_filt[adata_filt.obs['n_genes'].between(1000,1100)]\n",
    "barcodes = adata_filt_obs.obs"
   ]
  },
  {
   "cell_type": "code",
   "execution_count": 31,
   "metadata": {},
   "outputs": [
    {
     "data": {
      "text/plain": [
       "<166x40 sparse matrix of type '<class 'numpy.float32'>'\n",
       "\twith 4055 stored elements in Compressed Sparse Row format>"
      ]
     },
     "execution_count": 31,
     "metadata": {},
     "output_type": "execute_result"
    }
   ],
   "source": [
    "adata_filt_obs.X"
   ]
  },
  {
   "cell_type": "code",
   "execution_count": 34,
   "metadata": {},
   "outputs": [],
   "source": [
    "## mat = mmread(pbmc_path + 'matrix.mtx')\n",
    "## mat_t = mat.todense()[:100, :10].T\n",
    "mat = adata_filt_obs.X.todense()"
   ]
  },
  {
   "cell_type": "code",
   "execution_count": 51,
   "metadata": {},
   "outputs": [
    {
     "data": {
      "text/plain": [
       "((166, 40), (166, 5), (40, 9))"
      ]
     },
     "execution_count": 51,
     "metadata": {},
     "output_type": "execute_result"
    }
   ],
   "source": [
    "mat.shape, barcodes.shape, genes.shape"
   ]
  },
  {
   "cell_type": "code",
   "execution_count": 39,
   "metadata": {},
   "outputs": [],
   "source": [
    "## iid = [['fam0','iid0'],['fam0','iid1']]  ## use the fam, fid, to indicate subject and iid as cell barcode\n",
    "iid_bc = [['fam0', b] for b in barcodes.index.tolist()]"
   ]
  },
  {
   "cell_type": "code",
   "execution_count": 42,
   "metadata": {},
   "outputs": [],
   "source": [
    "sid_genes = genes['gene_ids'].tolist()"
   ]
  },
  {
   "cell_type": "code",
   "execution_count": 43,
   "metadata": {},
   "outputs": [
    {
     "data": {
      "text/plain": [
       "['ENSG00000163220',\n",
       " 'ENSG00000143546',\n",
       " 'ENSG00000197956',\n",
       " 'ENSG00000196154',\n",
       " 'ENSG00000158869']"
      ]
     },
     "execution_count": 43,
     "metadata": {},
     "output_type": "execute_result"
    }
   ],
   "source": [
    "sid_genes[:5]"
   ]
  },
  {
   "cell_type": "code",
   "execution_count": 44,
   "metadata": {},
   "outputs": [],
   "source": [
    "ensembl = tables['homo_sapiens-GRCh37-ensembl99']"
   ]
  },
  {
   "cell_type": "code",
   "execution_count": 45,
   "metadata": {},
   "outputs": [],
   "source": [
    "pos_genes = ensembl[ensembl.index.isin(sid_genes)][['Chromosome', 'Start', 'Start']].values.tolist()"
   ]
  },
  {
   "cell_type": "code",
   "execution_count": 50,
   "metadata": {},
   "outputs": [],
   "source": [
    "## using transcriptome to calculate the kinship matrices\n",
    "## snpdata = SnpData(iid=[['fam0','iid0'],['fam0','iid1']], sid=['snp334','snp349','snp921'], val=[[0.,2.,0.],[0.,1.,2.]])\n",
    "## pos - [chr, start, end]\n",
    "snpdata = SnpData(iid = iid_bc, sid = sid_genes, val = mat, pos = pos_genes)"
   ]
  },
  {
   "cell_type": "code",
   "execution_count": null,
   "metadata": {},
   "outputs": [],
   "source": [
    "Dat.write(\"temp/pbmc100.dat\", snpdata)"
   ]
  },
  {
   "cell_type": "code",
   "execution_count": 66,
   "metadata": {},
   "outputs": [],
   "source": [
    "## predicting genes / gene exptession\n",
    "phenodata = SnpData(iid = iid_bc, sid = [sid_genes[9]], val = mat[:,9])"
   ]
  },
  {
   "cell_type": "code",
   "execution_count": 67,
   "metadata": {
    "collapsed": true,
    "jupyter": {
     "outputs_hidden": true
    }
   },
   "outputs": [
    {
     "data": {
      "text/plain": [
       "matrix([[5.6958785],\n",
       "        [6.5767665],\n",
       "        [6.3086066],\n",
       "        [5.055046 ],\n",
       "        [4.6966333],\n",
       "        [6.088486 ],\n",
       "        [5.7743163],\n",
       "        [5.5693636],\n",
       "        [6.388266 ],\n",
       "        [6.919407 ],\n",
       "        [5.523676 ],\n",
       "        [5.36171  ],\n",
       "        [5.9151874],\n",
       "        [5.641898 ],\n",
       "        [6.4863033],\n",
       "        [4.5938997],\n",
       "        [5.8909545],\n",
       "        [6.781117 ],\n",
       "        [5.3116317],\n",
       "        [3.6031659],\n",
       "        [6.7126675],\n",
       "        [6.7188444],\n",
       "        [5.3641763],\n",
       "        [5.4205704],\n",
       "        [5.5249   ],\n",
       "        [4.7599554],\n",
       "        [6.505121 ],\n",
       "        [6.190226 ],\n",
       "        [6.946568 ],\n",
       "        [5.73938  ],\n",
       "        [4.9049673],\n",
       "        [5.8472304],\n",
       "        [4.2896705],\n",
       "        [6.988319 ],\n",
       "        [6.382187 ],\n",
       "        [5.763498 ],\n",
       "        [6.8991337],\n",
       "        [6.4160514],\n",
       "        [3.3722913],\n",
       "        [6.609569 ],\n",
       "        [5.887284 ],\n",
       "        [6.4990454],\n",
       "        [6.113965 ],\n",
       "        [3.745718 ],\n",
       "        [6.645214 ],\n",
       "        [5.5924025],\n",
       "        [6.7733335],\n",
       "        [6.3552713],\n",
       "        [6.6779027],\n",
       "        [6.102033 ],\n",
       "        [6.4920244],\n",
       "        [6.029846 ],\n",
       "        [5.0367165],\n",
       "        [4.6154504],\n",
       "        [6.0675845],\n",
       "        [3.547512 ],\n",
       "        [5.0507207],\n",
       "        [4.9519424],\n",
       "        [5.5907393],\n",
       "        [7.1534796],\n",
       "        [6.1628113],\n",
       "        [6.3973036],\n",
       "        [6.8349614],\n",
       "        [5.584443 ],\n",
       "        [6.3221135],\n",
       "        [5.971279 ],\n",
       "        [5.627191 ],\n",
       "        [5.8088207],\n",
       "        [6.4836903],\n",
       "        [4.9251165],\n",
       "        [5.8288956],\n",
       "        [6.434992 ],\n",
       "        [6.7660456],\n",
       "        [5.930069 ],\n",
       "        [5.742518 ],\n",
       "        [3.7046385],\n",
       "        [6.510149 ],\n",
       "        [6.6697054],\n",
       "        [4.635799 ],\n",
       "        [5.797622 ],\n",
       "        [6.4807587],\n",
       "        [4.8722744],\n",
       "        [6.588209 ],\n",
       "        [6.8829412],\n",
       "        [6.2862   ],\n",
       "        [5.4070625],\n",
       "        [5.6447024],\n",
       "        [4.8021584],\n",
       "        [6.8421   ],\n",
       "        [6.262909 ],\n",
       "        [6.234544 ],\n",
       "        [7.115768 ],\n",
       "        [4.877433 ],\n",
       "        [6.508376 ],\n",
       "        [5.6311073],\n",
       "        [5.6507883],\n",
       "        [5.2431474],\n",
       "        [5.439177 ],\n",
       "        [6.400383 ],\n",
       "        [6.4914207],\n",
       "        [5.476862 ],\n",
       "        [6.14543  ],\n",
       "        [6.253272 ],\n",
       "        [6.767866 ],\n",
       "        [4.6171026],\n",
       "        [5.0409045],\n",
       "        [5.9105067],\n",
       "        [7.003525 ],\n",
       "        [5.730594 ],\n",
       "        [6.6508603],\n",
       "        [5.87354  ],\n",
       "        [6.5968304],\n",
       "        [5.5155425],\n",
       "        [5.606262 ],\n",
       "        [6.213048 ],\n",
       "        [5.165327 ],\n",
       "        [4.14003  ],\n",
       "        [4.597783 ],\n",
       "        [6.620646 ],\n",
       "        [6.4057665],\n",
       "        [4.7081766],\n",
       "        [5.6731863],\n",
       "        [6.4237094],\n",
       "        [6.2007647],\n",
       "        [6.056014 ],\n",
       "        [5.9391932],\n",
       "        [5.4263477],\n",
       "        [6.0582376],\n",
       "        [5.0961423],\n",
       "        [6.398595 ],\n",
       "        [6.632316 ],\n",
       "        [6.869574 ],\n",
       "        [4.785236 ],\n",
       "        [6.726633 ],\n",
       "        [6.6334815],\n",
       "        [6.642268 ],\n",
       "        [6.0296164],\n",
       "        [5.6028166],\n",
       "        [5.015295 ],\n",
       "        [0.       ],\n",
       "        [5.9643016],\n",
       "        [5.6474752],\n",
       "        [6.7132473],\n",
       "        [5.8375363],\n",
       "        [5.893175 ],\n",
       "        [6.718344 ],\n",
       "        [5.065005 ],\n",
       "        [4.3698726],\n",
       "        [5.260464 ],\n",
       "        [5.487889 ],\n",
       "        [6.8795495],\n",
       "        [6.661111 ],\n",
       "        [6.365989 ],\n",
       "        [5.7481456],\n",
       "        [6.807401 ],\n",
       "        [4.992511 ],\n",
       "        [5.821786 ],\n",
       "        [5.2704244],\n",
       "        [5.5836883],\n",
       "        [5.4050126],\n",
       "        [6.5465345],\n",
       "        [4.957536 ],\n",
       "        [5.2487187],\n",
       "        [5.7335725],\n",
       "        [5.988452 ],\n",
       "        [5.4414625]], dtype=float32)"
      ]
     },
     "execution_count": 67,
     "metadata": {},
     "output_type": "execute_result"
    }
   ],
   "source": [
    "mat[:,9]"
   ]
  },
  {
   "cell_type": "code",
   "execution_count": null,
   "metadata": {},
   "outputs": [],
   "source": [
    "## results_df = single_snp(test_snps, pheno_fn, K0=G0, K1=G1, covar=cov_fn, GB_goal=2, count_A1=True)\n",
    "results_df = single_snp(test_snps = Dat(snpdata), pheno = Pheno(phenodata), K0 = Dat(snpdata))"
   ]
  },
  {
   "cell_type": "code",
   "execution_count": null,
   "metadata": {},
   "outputs": [],
   "source": []
  }
 ],
 "metadata": {
  "kernelspec": {
   "display_name": "Python 3",
   "language": "python",
   "name": "python3"
  },
  "language_info": {
   "codemirror_mode": {
    "name": "ipython",
    "version": 3
   },
   "file_extension": ".py",
   "mimetype": "text/x-python",
   "name": "python",
   "nbconvert_exporter": "python",
   "pygments_lexer": "ipython3",
   "version": "3.7.6"
  }
 },
 "nbformat": 4,
 "nbformat_minor": 4
}
